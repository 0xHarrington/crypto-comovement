{
 "cells": [
  {
   "cell_type": "markdown",
   "metadata": {
    "id": "5Nwe5ZSend9L",
    "tags": []
   },
   "source": [
    "# Cryptocurrency Analysis: Latent Space Dependence\n",
    "### Ali Habibnia and Matt Harrington\n",
    "\n",
    "---\n",
    "\n",
    "**Goals**:\n",
    "1. Grab all relevant coins (defined by subsets in `subsets.py`, default = `top_50`)\n",
    "1. Fit benchmark latent variable models \n",
    "    1. AR(1)\n",
    "    2. SARIMA\n",
    "1. Grenerate Latent Features with Encoding Methods\n",
    "    1. Vanilla AE\n",
    "    2. Variational AE\n",
    "    3. Transformer (?)\n",
    "1. Pass latent features to predictive models\n",
    "    1. OLS\n",
    "    2. RNN\n",
    "    3. LSTM\n",
    "    4. Forecasting Transformer\n",
    "---\n"
   ]
  },
  {
   "cell_type": "markdown",
   "metadata": {
    "id": "laGCI_NGgYZF",
    "tags": []
   },
   "source": [
    "## Plumbing"
   ]
  },
  {
   "cell_type": "code",
   "execution_count": 1,
   "metadata": {
    "colab": {
     "base_uri": "https://localhost:8080/"
    },
    "id": "3bFRBuAgi12G",
    "outputId": "bce65757-2766-4815-9b8e-72d66686f667"
   },
   "outputs": [
    {
     "name": "stdout",
     "output_type": "stream",
     "text": [
      "pairs/\n"
     ]
    }
   ],
   "source": [
    "import sys\n",
    "import os\n",
    "\n",
    "import importlib\n",
    "is_colab = importlib.util.find_spec(\"google\")\n",
    "found = is_colab is not None\n",
    "\n",
    "import_path = ''\n",
    "if found:\n",
    "    from google.colab import drive\n",
    "    drive.mount('/content/gdrive/', force_remount=True)\n",
    "    import_path += '/content/gdrive/My Drive/Thesis/pairs/'\n",
    "\n",
    "else:\n",
    "    import_path += 'pairs/'\n",
    "\n",
    "print(import_path)"
   ]
  },
  {
   "cell_type": "code",
   "execution_count": 2,
   "metadata": {},
   "outputs": [
    {
     "name": "stdout",
     "output_type": "stream",
     "text": [
      "Log-Returns Head:                           BTC       ETH  BCH  BNB  LINK  DOT  ADA  LTC  EOS  \\\n",
      "open_time                                                                     \n",
      "2017-08-17 04:01:00  0.000000  0.000000  NaN  NaN   NaN  NaN  NaN  NaN  NaN   \n",
      "2017-08-17 04:02:00  0.004467 -0.003759  NaN  NaN   NaN  NaN  NaN  NaN  NaN   \n",
      "2017-08-17 04:03:00 -0.004467  0.000000  NaN  NaN   NaN  NaN  NaN  NaN  NaN   \n",
      "\n",
      "                     XMR  ...  UMA  ONT  YFI  SNX  FTT  BTT  ALGO  DGB  DOGE  \\\n",
      "open_time                 ...                                                  \n",
      "2017-08-17 04:01:00  NaN  ...  NaN  NaN  NaN  NaN  NaN  NaN   NaN  NaN   NaN   \n",
      "2017-08-17 04:02:00  NaN  ...  NaN  NaN  NaN  NaN  NaN  NaN   NaN  NaN   NaN   \n",
      "2017-08-17 04:03:00  NaN  ...  NaN  NaN  NaN  NaN  NaN  NaN   NaN  NaN   NaN   \n",
      "\n",
      "                     REN  \n",
      "open_time                 \n",
      "2017-08-17 04:01:00  NaN  \n",
      "2017-08-17 04:02:00  NaN  \n",
      "2017-08-17 04:03:00  NaN  \n",
      "\n",
      "[3 rows x 36 columns]\n"
     ]
    }
   ],
   "source": [
    "from subsets import *\n",
    "from coin_helpers import load_coins, simplify\n",
    "coins, returns = load_coins(import_path, top_50)"
   ]
  },
  {
   "cell_type": "markdown",
   "metadata": {
    "id": "Ej_k8m2zxp__"
   },
   "source": [
    "### Helper functions"
   ]
  },
  {
   "cell_type": "code",
   "execution_count": 3,
   "metadata": {
    "id": "kXAwyNJERnyt"
   },
   "outputs": [],
   "source": [
    "# N = number of return periods\n",
    "def annualised_sharpe(returns, N=252):\n",
    "    return np.sqrt(N) * (returns.mean() / returns.std())\n",
    "\n",
    "def multi_get_rolling_samples(ts, lag = 12):\n",
    "    samples = []\n",
    "    fifth = round(len(ts.index) / 5)\n",
    "    for i in range(len(ts.index)):\n",
    "        if i >= lag:\n",
    "            if i % fifth == 0:\n",
    "                print(\"{} periods done\".format(i))\n",
    "            s = ts.iloc[i-lag: i]\n",
    "            samples.append(s)"
   ]
  },
  {
   "cell_type": "markdown",
   "metadata": {
    "id": "8tTT2-31f77N"
   },
   "source": [
    "## Setting up import dictionary \"coins\", returns, and subsets"
   ]
  },
  {
   "cell_type": "markdown",
   "metadata": {
    "id": "p03BY39DInW4"
   },
   "source": [
    "#### Subsetting"
   ]
  },
  {
   "cell_type": "code",
   "execution_count": 4,
   "metadata": {
    "id": "gVFBJFTpei2W"
   },
   "outputs": [],
   "source": [
    "hour_ret = simplify(returns, '1h')\n",
    "day_ret = simplify(returns, '1D')"
   ]
  },
  {
   "cell_type": "code",
   "execution_count": 5,
   "metadata": {
    "colab": {
     "base_uri": "https://localhost:8080/"
    },
    "id": "LebUOVrxkLF6",
    "outputId": "dd4eb506-182a-4496-af71-0c06f48b0b46"
   },
   "outputs": [
    {
     "name": "stdout",
     "output_type": "stream",
     "text": [
      "26 of 36 (72.22%) have more than 365 days of data\n",
      "14 of 36 (38.89%) have more than 730 days of data\n"
     ]
    }
   ],
   "source": [
    "n = 365\n",
    "twoyr, oneyr = [], []\n",
    "for c in day_ret.columns:\n",
    "    nulls = day_ret[c].isnull().sum()\n",
    "    lengs = day_ret[c].shape[0]\n",
    "    if lengs - nulls > n:\n",
    "        oneyr.append(c)\n",
    "        if lengs - nulls > 2*n:\n",
    "            twoyr.append(c)\n",
    "\n",
    "n1, n2 = len(oneyr), len(twoyr)\n",
    "nall = len(returns.columns)\n",
    "p1 = round(100 * n1 / nall, 2)\n",
    "p2 = round(100 * n2 / nall, 2)\n",
    "print(\"{0} of {1} ({2}%) have more than {3} days of data\".format(n1, nall, p1, n))\n",
    "print(\"{0} of {1} ({2}%) have more than {3} days of data\".format(n2, nall, p2, 2 * n))"
   ]
  },
  {
   "cell_type": "markdown",
   "metadata": {
    "id": "NVQhFZyR7utn"
   },
   "source": [
    "---\n",
    "## Deep Learning Models\n",
    "\n",
    "###### Code based on [atcold/pytorch-deep-learning](https://github.com/Atcold/pytorch-Deep-Learning) on Github"
   ]
  },
  {
   "cell_type": "markdown",
   "metadata": {
    "id": "Mk4KL4HHJxzB"
   },
   "source": [
    "#### Library imports"
   ]
  },
  {
   "cell_type": "code",
   "execution_count": 6,
   "metadata": {
    "id": "hk7LBk8P5pPQ"
   },
   "outputs": [],
   "source": [
    "# standard \n",
    "import numpy as np\n",
    "import matplotlib.pyplot as plt\n",
    "plt.style.use(\"ggplot\")\n",
    "\n",
    "# Pytorch\n",
    "import torch\n",
    "import torchvision\n",
    "from torch import nn\n",
    "import torch.nn.functional as fs\n",
    "\n",
    "# Pretty\n",
    "from IPython import display"
   ]
  },
  {
   "cell_type": "markdown",
   "metadata": {
    "id": "sm4MUZeMJ1N3"
   },
   "source": [
    "#### Dataset creation"
   ]
  },
  {
   "cell_type": "code",
   "execution_count": 7,
   "metadata": {
    "id": "DGNVOAdb9Tsz"
   },
   "outputs": [],
   "source": [
    "from torch.utils.data import DataLoader, Dataset\n",
    "from torchvision import transforms\n",
    "\n",
    "class CryptoReturnsDataset(Dataset):\n",
    "\n",
    "    def __init__(self, params, train = True):\n",
    "\n",
    "        # unpack extensiblee input tuple \n",
    "        ts, resample_period, lag, subset = params\n",
    "\n",
    "        raw = simplify(ts[subset], resample_period).dropna(0, 'any')\n",
    "        train_test_thresh = round((raw.shape[0] - lag) * .8) + lag\n",
    "        if train:\n",
    "            self.data = torch.tensor(raw.iloc[lag : train_test_thresh].values)\n",
    "        else:\n",
    "            self.data = torch.tensor(raw.iloc[train_test_thresh :].values)\n",
    "    \n",
    "        self.n_samples = self.data.shape[0] - lag\n",
    "        self.lag = lag\n",
    "        \n",
    "    def __getitem__(self, index):\n",
    "        x = self.data[index : index + self.lag]\n",
    "        d = x.shape[1]\n",
    "        x = x.reshape(-1, self.lag * d)\n",
    "        y = self.data[index + self.lag].reshape(-1)\n",
    "        return x, y\n",
    "\n",
    "    def __len__(self):\n",
    "        return self.n_samples"
   ]
  },
  {
   "cell_type": "code",
   "execution_count": 8,
   "metadata": {
    "id": "0ik0EQaUWBDX"
   },
   "outputs": [],
   "source": [
    "# crypto_transforms = transforms.Compose([\n",
    "#     transforms.Resize(lag * len(subset)),\n",
    "#     transforms.ToTensor()\n",
    "# ])\n",
    "\n",
    "######## Dataset Parameters ########\n",
    "lag = 12\n",
    "subset = oneyr\n",
    "n_coins = len(subset)\n",
    "PARAMS = (returns,      # Returns df\n",
    "          '1h',         # Resample Frequency\n",
    "          lag,          # AR Lag\n",
    "          subset)       # Coin subset\n",
    "\n",
    "\n",
    "######## Data loader ########\n",
    "train_dataset = CryptoReturnsDataset(PARAMS, True)\n",
    "test_dataset = CryptoReturnsDataset(PARAMS, False)\n",
    "\n",
    "train_loader = DataLoader(train_dataset, batch_size = 128, shuffle=False)\n",
    "test_loader = DataLoader(test_dataset, batch_size = 1, shuffle=False)\n",
    "\n",
    "######## Device ########\n",
    "device = torch.device(\"cuda:0\" if torch.cuda.is_available() else \"cpu\")"
   ]
  },
  {
   "cell_type": "markdown",
   "metadata": {
    "id": "FS17z35VC8yZ"
   },
   "source": [
    "---\n",
    "### Vanilla AutoEncoder\n",
    "---"
   ]
  },
  {
   "cell_type": "code",
   "execution_count": 9,
   "metadata": {
    "id": "zxryssuDLTx-"
   },
   "outputs": [],
   "source": [
    "# Define standard AE model architecture and reconstruction loss\n",
    "\n",
    "ae_dim = 30  # for standard AE (under-complete hidden layer)\n",
    "# ae_dim = 500  # for denoising AE (over-complete hidden layer)\n",
    "\n",
    "class Autoencoder(nn.Module):\n",
    "    def __init__(self, ae_dim):\n",
    "        super().__init__()\n",
    "        self.encoder = nn.Sequential(\n",
    "            nn.Linear(lag * n_coins, ae_dim),\n",
    "            nn.Tanh(),\n",
    "        )\n",
    "        self.decoder = nn.Sequential(\n",
    "            nn.Linear(ae_dim, lag * n_coins),\n",
    "            nn.Tanh(),\n",
    "        )\n",
    "\n",
    "    def forward(self, x):\n",
    "        x = self.encoder(x)\n",
    "        x = self.decoder(x)\n",
    "        return x"
   ]
  },
  {
   "cell_type": "markdown",
   "metadata": {
    "id": "VvPHD1ncnhxs"
   },
   "source": [
    "#### Training step"
   ]
  },
  {
   "cell_type": "code",
   "execution_count": 24,
   "metadata": {
    "colab": {
     "base_uri": "https://localhost:8080/"
    },
    "id": "NjxDYnBJC--u",
    "outputId": "11e0306b-1353-4054-b6fb-054c7ce3a78e"
   },
   "outputs": [
    {
     "name": "stdout",
     "output_type": "stream",
     "text": [
      "model [4/4]: l_dim [30], epoch [500/500], loss: 0.000001400\n"
     ]
    }
   ],
   "source": [
    "# (Hyper) parameter tuning\n",
    "epoch_jump = 50\n",
    "nepoch_jumps = 2\n",
    "epochs = np.arange(epoch_jump, \n",
    "                  (epoch_jump * nepoch_jumps) + 1, \n",
    "                   epoch_jump)\n",
    "epochs = [5, 500]\n",
    "n_e = len(epochs)\n",
    "\n",
    "latent_dim_jump = 10\n",
    "nlatent_jumps = 2\n",
    "initial_latent = 10\n",
    "latent_dims = np.arange(initial_latent, \n",
    "                        initial_latent + (nlatent_jumps * latent_dim_jump) + 1, \n",
    "                        latent_dim_jump)\n",
    "latent_dims = [10, 30]\n",
    "\n",
    "n_models = n_e * len(latent_dims)\n",
    "models = [0] * n_models\n",
    "\n",
    "ae_losses = []\n",
    "criterion = nn.MSELoss()\n",
    "learning_rate = 1e-3\n",
    "\n",
    "for j, ae_dim in enumerate(latent_dims):\n",
    "    for i, num_epochs in enumerate(epochs):\n",
    "        ######## Model instantiation ########\n",
    "        model = Autoencoder(ae_dim).to(device)\n",
    "        mod = (j * n_e) + i\n",
    "        models[mod] = model\n",
    "\n",
    "        ######## Configure the optimiser ########  \n",
    "        optimizer = torch.optim.Adam(\n",
    "            model.parameters(),\n",
    "            lr=learning_rate,\n",
    "        )\n",
    "\n",
    "        training_loss = np.zeros(num_epochs)\n",
    "        for epoch in range(num_epochs):\n",
    "            for i, data in enumerate(train_loader):\n",
    "                x, _ = data\n",
    "                x = x.to(device)\n",
    "                x = x.view(x.size(0), -1)\n",
    "\n",
    "                # =================== forward =====================\n",
    "                output = model(x)  # feed <x> (for std AE) or <x_bad> (for denoising AE)\n",
    "                loss = criterion(output, x.data)\n",
    "\n",
    "                # =================== backward ====================\n",
    "                optimizer.zero_grad()\n",
    "                loss.backward()\n",
    "                optimizer.step()\n",
    "\n",
    "            # =================== log ========================\n",
    "            print(f'model [{mod + 1}/{n_models}]: l_dim [{ae_dim}], epoch [{epoch+1}/{num_epochs}], loss: {loss.item():.9f}')\n",
    "            display.clear_output(wait=True)\n",
    "\n",
    "            # =================== record ========================\n",
    "            training_loss[epoch] = loss.item()\n",
    "        ae_losses.append(training_loss)"
   ]
  },
  {
   "cell_type": "code",
   "execution_count": 25,
   "metadata": {
    "colab": {
     "base_uri": "https://localhost:8080/",
     "height": 500
    },
    "id": "5HitiSSVPX_j",
    "outputId": "06fbe19a-e52e-4b2d-e4e5-69fa52c967c2"
   },
   "outputs": [
    {
     "data": {
      "image/png": "[encoded data removed]",
      "text/plain": [
       "<Figure size 1296x432 with 1 Axes>"
      ]
     },
     "metadata": {},
     "output_type": "display_data"
    }
   ],
   "source": [
    "lookback = 500\n",
    "def plot_model_losses(losses):\n",
    "    fig=plt.figure(figsize=(18,6)) \n",
    "    for i, arr in enumerate(losses):\n",
    "        ne = len(arr)\n",
    "        ldim = latent_dims[i // n_e]\n",
    "#         plt.plot(np.arange(ne-lookback, ne), arr[-lookback:], label=f'dim{ldim}|{ne}-epoch')\n",
    "#         plt.plot(np.arange(ne-lookback, ne), arr[-lookback:], label=f'{ldim}')\n",
    "        plt.plot(arr, label=f'{ne}-Epoch')\n",
    "#     plt.title(f\"{len(losses[0])}-Jump Epoch Loss(es)\")\n",
    "    plt.title(f\"{len(losses[0])}-Epoch Loss(es)\")\n",
    "    plt.legend()\n",
    "    plt.grid(True)\n",
    "#     plt.yscale('log')\n",
    "    plt.ylabel(\"Loss\")\n",
    "    plt.xlabel(\"Epoc\")\n",
    "    plt.show()\n",
    "\n",
    "plot_model_losses(ae_losses)"
   ]
  },
  {
   "cell_type": "markdown",
   "metadata": {
    "id": "OxS5_1acjmxe"
   },
   "source": [
    "#### Testing Steps"
   ]
  },
  {
   "cell_type": "code",
   "execution_count": 26,
   "metadata": {
    "id": "cv4BAx7QonUI"
   },
   "outputs": [],
   "source": [
    "test_errors = []\n",
    "errs = []\n",
    "mags = np.ones(len(test_dataset))\n",
    "for mod in range(n_models):\n",
    "    model = models[mod]\n",
    "    errors = np.ones(len(test_loader))\n",
    "    for i, data in enumerate(test_loader):\n",
    "        x, _ = data\n",
    "        x = x.to(device)\n",
    "        flat_x = x.view(x.size(0), -1)\n",
    "        output = model(flat_x)\n",
    "        errors[i] = torch.norm(output - flat_x, dim=1)\n",
    "        if mod == 0:\n",
    "            mags[i] = torch.norm(flat_x, dim=1)\n",
    "    errs.append(errors)"
   ]
  },
  {
   "cell_type": "code",
   "execution_count": 27,
   "metadata": {
    "colab": {
     "base_uri": "https://localhost:8080/",
     "height": 391
    },
    "id": "n6dBw4rEtY1i",
    "outputId": "60745263-5fe2-460c-d302-ca433088098e"
   },
   "outputs": [
    {
     "data": {
      "image/png": "[encoded data removed]",
      "text/plain": [
       "<Figure size 1296x432 with 1 Axes>"
      ]
     },
     "metadata": {},
     "output_type": "display_data"
    }
   ],
   "source": [
    "fig, ax = plt.subplots(figsize=(18,6))\n",
    "bins = 100\n",
    "ax.hist(mags, bins=bins, label='sample magnitude', color=\"black\")\n",
    "for i, err in enumerate(errs):\n",
    "    ax.hist(err, bins=bins, label=f\"Run {i+1}\", alpha=.5)\n",
    "#     plt.hist(err, bins=300, label=f\"Dim: {latent_dims[i]}\", alpha=.8 - (.1 * i))\n",
    "plt.grid(True)\n",
    "plt.title(\"# Epochs vs Error Magnitudes\")\n",
    "plt.legend()\n",
    "plt.show()"
   ]
  },
  {
   "cell_type": "markdown",
   "metadata": {
    "id": "SuITOmGwjVvL"
   },
   "source": [
    "#### Latent AE Dataset"
   ]
  },
  {
   "cell_type": "code",
   "execution_count": 14,
   "metadata": {
    "id": "Ykggf7Yvjq2P"
   },
   "outputs": [],
   "source": [
    "errs = np.array(errs)\n",
    "errmeans = errs.mean(axis=1)\n",
    "best_index = np.where(errmeans == min(errmeans))[0][0]\n",
    "best_ae = models[best_index]"
   ]
  },
  {
   "cell_type": "code",
   "execution_count": 15,
   "metadata": {
    "id": "07yb-yGujVII"
   },
   "outputs": [],
   "source": [
    "class AELatentDataset(Dataset):\n",
    "\n",
    "    def __init__(self, params = PARAMS, model = best_ae, train = True):\n",
    "\n",
    "        # unpack extensiblee input tuple \n",
    "        ts, resample_period, lag, subset = params\n",
    "\n",
    "        raw = simplify(ts[subset], resample_period).dropna(0, 'any')\n",
    "        train_test_thresh = round((raw.shape[0] - lag) * .8) + lag\n",
    "        if train:\n",
    "            self.data = torch.tensor(raw.iloc[lag : train_test_thresh].values)\n",
    "        else:\n",
    "            self.data = torch.tensor(raw.iloc[train_test_thresh :].values)\n",
    "    \n",
    "        self.n_samples = self.data.shape[0] - lag\n",
    "        self.lag = lag\n",
    "        self.ae = model\n",
    "        \n",
    "    def __getitem__(self, index):\n",
    "        x = self.data[index : index + self.lag]\n",
    "        d = x.shape[1]\n",
    "        x = x.reshape(-1, self.lag * d)\n",
    "        latent_x = torch.tensor(self.ae.encoder(x))\n",
    "        y = self.data[index + self.lag].reshape(-1)\n",
    "        return latent_x, y\n",
    "\n",
    "    def __len__(self):\n",
    "        return self.n_samples\n",
    "\n",
    "######## Data loader ########\n",
    "ae_latent_train_dataset = AELatentDataset(PARAMS, best_ae, train = True)\n",
    "ae_latent_test_dataset = AELatentDataset(PARAMS, best_ae, train = False)\n",
    "\n",
    "ae_latent_train_loader = DataLoader(ae_latent_train_dataset, \n",
    "                                    batch_size = 128, \n",
    "                                    shuffle=False)\n",
    "ae_latent_test_loader = DataLoader(ae_latent_test_dataset,\n",
    "                                   batch_size = 1,\n",
    "                                   shuffle=False)"
   ]
  },
  {
   "cell_type": "markdown",
   "metadata": {
    "id": "uNmFjyLwDAvI"
   },
   "source": [
    "---\n",
    "### Variational AutoEncoder\n",
    "---"
   ]
  },
  {
   "cell_type": "code",
   "execution_count": 16,
   "metadata": {
    "id": "IHSnZ-b7LW7h"
   },
   "outputs": [],
   "source": [
    "# Defining the model\n",
    "\n",
    "d = 20\n",
    "in_dim = lag * n_coins\n",
    "\n",
    "class VAE(nn.Module):\n",
    "    def __init__(self):\n",
    "        super().__init__()\n",
    "\n",
    "        self.encoder = nn.Sequential(\n",
    "            nn.Linear(in_dim, d ** 2),\n",
    "            nn.ReLU(),\n",
    "            nn.Linear(d ** 2, d * 2)\n",
    "        )\n",
    "\n",
    "        self.decoder = nn.Sequential(\n",
    "            nn.Linear(d, d ** 2),\n",
    "            nn.ReLU(),\n",
    "            nn.Linear(d ** 2, in_dim),\n",
    "            nn.Sigmoid(),\n",
    "        )\n",
    "\n",
    "    def reparameterise(self, mu, logvar):\n",
    "        if self.training:\n",
    "            std = logvar.mul(0.5).exp_()\n",
    "            eps = std.data.new(std.size()).normal_()\n",
    "            return eps.mul(std).add_(mu)\n",
    "        else:\n",
    "            return mu\n",
    "\n",
    "    def forward(self, x):\n",
    "        mu_logvar = self.encoder(x.view(-1, in_dim)).view(-1, 2, d)\n",
    "        mu = mu_logvar[:, 0, :]\n",
    "        logvar = mu_logvar[:, 1, :]\n",
    "        z = self.reparameterise(mu, logvar)\n",
    "        return self.decoder(z), mu, logvar"
   ]
  },
  {
   "cell_type": "code",
   "execution_count": 17,
   "metadata": {
    "id": "cexzVpQQKS06"
   },
   "outputs": [],
   "source": [
    "# Reconstruction + KL divergence losses summed over all elements and batch\n",
    "\n",
    "def loss_function(x_hat, x, mu, logvar):\n",
    "    BCE = nn.functional.binary_cross_entropy(\n",
    "        x_hat, x.view(-1, in_dim), reduction='sum'\n",
    "    )\n",
    "    KLD = 0.5 * torch.sum(logvar.exp() - logvar - 1 + mu.pow(2))\n",
    "\n",
    "    return BCE + KLD"
   ]
  },
  {
   "cell_type": "code",
   "execution_count": 18,
   "metadata": {
    "colab": {
     "base_uri": "https://localhost:8080/"
    },
    "id": "M6JfSjIr5rvT",
    "outputId": "0e9d2124-edd1-4e07-b7e6-fb77e3851191"
   },
   "outputs": [
    {
     "name": "stdout",
     "output_type": "stream",
     "text": [
      "====> Model: 5, Epoch: 20, Average loss: 218.1915\n",
      "====> Test set loss: 216.4366\n"
     ]
    }
   ],
   "source": [
    "# Training and testing the VAE\n",
    "import copy\n",
    "codes = dict(μ=list(), logσ2=list(), y=list())\n",
    "epoch_jump = 4\n",
    "num_models = 5\n",
    "models = []\n",
    "train_losses = []\n",
    "test_losses = []\n",
    "ref_model = VAE()\n",
    "\n",
    "# Multi-model loop\n",
    "for mod in range(num_models):\n",
    "\n",
    "    ######## Model instantiation ########\n",
    "    model = copy.deepcopy(ref_model).to(device)\n",
    "    models.append(model)\n",
    "\n",
    "    num_epochs = epoch_jump * (mod + 1)\n",
    "    training_loss = np.zeros(num_epochs)\n",
    "    testing_loss = np.zeros(num_epochs + 1)\n",
    "   \n",
    "    for epoch in range(0, num_epochs + 1):\n",
    "    \n",
    "        # Training\n",
    "        if epoch > 0:  # test untrained net first\n",
    "            model.train()\n",
    "            train_loss = 0\n",
    "            for x, _ in train_loader:\n",
    "                x = x.to(device)\n",
    "                # ===================forward=====================\n",
    "                x_hat, mu, logvar = model(x)\n",
    "                loss = loss_function(x_hat, x, mu, logvar)\n",
    "                train_loss += loss.item()\n",
    "                # ===================backward====================\n",
    "                optimizer.zero_grad()\n",
    "                loss.backward()\n",
    "                optimizer.step()\n",
    "            # ===================log========================\n",
    "            avg_loss = train_loss / len(train_loader.dataset)\n",
    "            print(f'====> Model: {mod+1}, Epoch: {epoch}, Average loss: {avg_loss:.4f}')\n",
    "\n",
    "            training_loss[epoch-1] = avg_loss\n",
    "    \n",
    "        # Testing\n",
    "        means, logvars, labels = list(), list(), list()\n",
    "        with torch.no_grad():\n",
    "            model.eval()\n",
    "            test_loss = 0\n",
    "            for x, y in test_loader:\n",
    "                x = x.to(device)\n",
    "                # ===================forward=====================\n",
    "                x_hat, mu, logvar = model(x)\n",
    "                test_loss += loss_function(x_hat, x, mu, logvar).item()\n",
    "                # =====================log=======================\n",
    "                means.append(mu.detach())\n",
    "                logvars.append(logvar.detach())\n",
    "                labels.append(y.detach())\n",
    "        \n",
    "        # ===================log========================\n",
    "        codes['μ'].append(torch.cat(means))\n",
    "        codes['logσ2'].append(torch.cat(logvars))\n",
    "        codes['y'].append(torch.cat(labels))\n",
    "        test_loss /= len(test_loader.dataset)\n",
    "        print(f'====> Test set loss: {test_loss:.4f}')\n",
    "        testing_loss[epoch] = test_loss\n",
    "        display.clear_output(wait=True)\n",
    "    \n",
    "    train_losses.append(training_loss)\n",
    "    test_losses.append(testing_loss)"
   ]
  },
  {
   "cell_type": "code",
   "execution_count": 19,
   "metadata": {
    "colab": {
     "base_uri": "https://localhost:8080/",
     "height": 983
    },
    "id": "S4eejcB1picb",
    "outputId": "66958f72-77a3-4eab-8964-3a7bead290fe"
   },
   "outputs": [
    {
     "data": {
      "image/png": "[encoded data removed]",
      "text/plain": [
       "<Figure size 1296x432 with 1 Axes>"
      ]
     },
     "metadata": {},
     "output_type": "display_data"
    },
    {
     "data": {
      "image/png": "[encoded data removed]",
      "text/plain": [
       "<Figure size 1296x432 with 1 Axes>"
      ]
     },
     "metadata": {},
     "output_type": "display_data"
    }
   ],
   "source": [
    "plot_model_losses(train_losses)\n",
    "plot_model_losses(test_losses)"
   ]
  },
  {
   "cell_type": "markdown",
   "metadata": {
    "id": "Gqk1p3stdUX5"
   },
   "source": [
    "#### VAE Latent Dataset"
   ]
  },
  {
   "cell_type": "code",
   "execution_count": 20,
   "metadata": {
    "id": "qIdGGkEBlwCl"
   },
   "outputs": [],
   "source": [
    "errs = np.array([np.mean(x) for x in train_losses])\n",
    "best_index = np.where(errs == min(errs))[0][0]\n",
    "best_vae = models[best_index]"
   ]
  },
  {
   "cell_type": "code",
   "execution_count": 21,
   "metadata": {
    "id": "3_MjtyZLdLeD"
   },
   "outputs": [],
   "source": [
    "class VAELatentDataset(Dataset):\n",
    "\n",
    "    def __init__(self, params = PARAMS, model = best_vae, train = True):\n",
    "\n",
    "        # unpack extensiblee input tuple \n",
    "        ts, resample_period, lag, subset = params\n",
    "\n",
    "        raw = simplify(ts[subset], resample_period).dropna(0, 'any')\n",
    "        train_test_thresh = round((raw.shape[0] - lag) * .8) + lag\n",
    "        if train:\n",
    "            self.data = torch.tensor(raw.iloc[lag : train_test_thresh].values)\n",
    "        else:\n",
    "            self.data = torch.tensor(raw.iloc[train_test_thresh :].values)\n",
    "    \n",
    "        self.n_samples = self.data.shape[0] - lag\n",
    "        self.lag = lag\n",
    "        self.vae = model\n",
    "        self.vae.eval()\n",
    "        \n",
    "    def __getitem__(self, index):\n",
    "        x = self.data[index : index + self.lag]\n",
    "        d = x.shape[1]\n",
    "        x = x.reshape(-1, self.lag * d)\n",
    "        _, mu, logvar = self.vae.forward(x)\n",
    "        latent_x = self.vae.reparameterise(x)\n",
    "        y = self.data[index + self.lag].reshape(-1)\n",
    "        return latent_x, y\n",
    "\n",
    "    def __len__(self):\n",
    "        return self.n_samples\n",
    "\n",
    "######## Data loader ########\n",
    "vae_latent_train_dataset = VAELatentDataset(PARAMS, best_vae, train = True)\n",
    "vae_latent_test_dataset = VAELatentDataset(PARAMS, best_vae, train = False)\n",
    "\n",
    "vae_latent_train_loader = DataLoader(vae_latent_train_dataset, \n",
    "                                     batch_size = 128, \n",
    "                                     shuffle=False)\n",
    "vae_latent_test_loader = DataLoader(vae_latent_test_dataset,\n",
    "                                    batch_size = 1,\n",
    "                                    shuffle=False)"
   ]
  },
  {
   "cell_type": "markdown",
   "metadata": {
    "id": "UtRxbk3Fih5t"
   },
   "source": [
    "## Baseline Predictive Models"
   ]
  },
  {
   "cell_type": "code",
   "execution_count": 54,
   "metadata": {},
   "outputs": [],
   "source": [
    "import warnings\n",
    "import statsmodels.api as sm\n",
    "from statsmodels.tsa.ar_model import AutoReg\n",
    "from statsmodels.tsa.statespace.sarimax import SARIMAX"
   ]
  },
  {
   "cell_type": "markdown",
   "metadata": {},
   "source": [
    "#### AR(1)"
   ]
  },
  {
   "cell_type": "code",
   "execution_count": 79,
   "metadata": {},
   "outputs": [
    {
     "name": "stdout",
     "output_type": "stream",
     "text": [
      "17768 14\n"
     ]
    }
   ],
   "source": [
    "ts_data = hour_ret[twoyr].dropna(how='any')\n",
    "n, c = ts_data.shape\n",
    "print(n, c)"
   ]
  },
  {
   "cell_type": "code",
   "execution_count": 83,
   "metadata": {},
   "outputs": [
    {
     "name": "stdout",
     "output_type": "stream",
     "text": [
      "BTC\t|AIC: -13.051, HQIC: -13.050, BIC: -13.048\n",
      "ETH\t|AIC: -12.593, HQIC: -12.592, BIC: -12.590\n",
      "BNB\t|AIC: -12.544, HQIC: -12.543, BIC: -12.541\n",
      "LINK\t|AIC: -11.703, HQIC: -11.702, BIC: -11.701\n",
      "ADA\t|AIC: -12.533, HQIC: -12.532, BIC: -12.530\n",
      "LTC\t|AIC: -12.537, HQIC: -12.536, BIC: -12.534\n",
      "EOS\t|AIC: -12.535, HQIC: -12.534, BIC: -12.532\n",
      "TRX\t|AIC: -12.497, HQIC: -12.496, BIC: -12.495\n",
      "XLM\t|AIC: -12.626, HQIC: -12.626, BIC: -12.624\n",
      "NEO\t|AIC: -12.384, HQIC: -12.383, BIC: -12.381\n",
      "VET\t|AIC: -12.043, HQIC: -12.042, BIC: -12.040\n",
      "ETC\t|AIC: -12.361, HQIC: -12.360, BIC: -12.358\n",
      "ONT\t|AIC: -12.252, HQIC: -12.251, BIC: -12.249\n",
      "BTT\t|AIC: -12.416, HQIC: -12.415, BIC: -12.414\n"
     ]
    }
   ],
   "source": [
    "out = '{3}\\t|AIC: {0:0.3f}, HQIC: {1:0.3f}, BIC: {2:0.3f}'\n",
    "predictions = {}\n",
    "with warnings.catch_warnings():\n",
    "    warnings.filterwarnings(\"ignore\")\n",
    "    for coin, ts in ts_data.iteritems():\n",
    "        test_thresh = int(np.ceil(ts.shape[0] * .8))\n",
    "        res = AutoReg(ts.iloc[:test_thresh], lags = [1, 11, 12]).fit()\n",
    "        print(out.format(res.aic, res.hqic, res.bic, coin))\n",
    "        predictions[coin] = res"
   ]
  },
  {
   "cell_type": "code",
   "execution_count": 84,
   "metadata": {},
   "outputs": [
    {
     "name": "stdout",
     "output_type": "stream",
     "text": [
      "                            AutoReg Model Results                             \n",
      "==============================================================================\n",
      "Dep. Variable:                    BTC   No. Observations:                14215\n",
      "Model:             Restr. AutoReg(12)   Log Likelihood               72530.030\n",
      "Method:               Conditional MLE   S.D. of innovations              0.001\n",
      "Date:                Tue, 16 Mar 2021   AIC                            -13.051\n",
      "Time:                        14:59:45   BIC                            -13.048\n",
      "Sample:                            12   HQIC                           -13.050\n",
      "                                14215                                         \n",
      "==============================================================================\n",
      "                 coef    std err          z      P>|z|      [0.025      0.975]\n",
      "------------------------------------------------------------------------------\n",
      "intercept    3.16e-05   1.23e-05      2.568      0.010    7.48e-06    5.57e-05\n",
      "BTC.L1         0.0817      0.008      9.769      0.000       0.065       0.098\n",
      "BTC.L11       -0.0224      0.008     -2.666      0.008      -0.039      -0.006\n",
      "BTC.L12       -0.0115      0.008     -1.373      0.170      -0.028       0.005\n",
      "                                    Roots                                     \n",
      "==============================================================================\n",
      "                   Real          Imaginary           Modulus         Frequency\n",
      "------------------------------------------------------------------------------\n",
      "AR.1             1.2854           -0.3593j            1.3347           -0.0434\n",
      "AR.2             1.2854           +0.3593j            1.3347            0.0434\n",
      "AR.3             0.9206           -0.9842j            1.3476           -0.1303\n",
      "AR.4             0.9206           +0.9842j            1.3476            0.1303\n",
      "AR.5             0.2764           -1.3458j            1.3738           -0.2178\n",
      "AR.6             0.2764           +1.3458j            1.3738            0.2178\n",
      "AR.7            -0.4878           -1.3298j            1.4165           -0.3060\n",
      "AR.8            -0.4878           +1.3298j            1.4165            0.3060\n",
      "AR.9            -1.1801           -0.9098j            1.4901           -0.3955\n",
      "AR.10           -1.1801           +0.9098j            1.4901            0.3955\n",
      "AR.11           -1.7854           -0.0614j            1.7865           -0.4945\n",
      "AR.12           -1.7854           +0.0614j            1.7865            0.4945\n",
      "------------------------------------------------------------------------------\n",
      "                            AutoReg Model Results                             \n",
      "==============================================================================\n",
      "Dep. Variable:                    ETH   No. Observations:                14215\n",
      "Model:             Restr. AutoReg(12)   Log Likelihood               69279.368\n",
      "Method:               Conditional MLE   S.D. of innovations              0.002\n",
      "Date:                Tue, 16 Mar 2021   AIC                            -12.593\n",
      "Time:                        14:59:45   BIC                            -12.590\n",
      "Sample:                            12   HQIC                           -12.592\n",
      "                                14215                                         \n",
      "==============================================================================\n",
      "                 coef    std err          z      P>|z|      [0.025      0.975]\n",
      "------------------------------------------------------------------------------\n",
      "intercept   4.264e-05   1.55e-05      2.756      0.006    1.23e-05     7.3e-05\n",
      "ETH.L1         0.1132      0.008     13.574      0.000       0.097       0.130\n",
      "ETH.L11       -0.0214      0.008     -2.549      0.011      -0.038      -0.005\n",
      "ETH.L12       -0.0119      0.008     -1.422      0.155      -0.028       0.005\n",
      "                                    Roots                                     \n",
      "==============================================================================\n",
      "                   Real          Imaginary           Modulus         Frequency\n",
      "------------------------------------------------------------------------------\n",
      "AR.1             1.2822           -0.3560j            1.3307           -0.0431\n",
      "AR.2             1.2822           +0.3560j            1.3307            0.0431\n",
      "AR.3             0.9237           -0.9785j            1.3456           -0.1296\n",
      "AR.4             0.9237           +0.9785j            1.3456            0.1296\n",
      "AR.5             0.2855           -1.3448j            1.3748           -0.2167\n",
      "AR.6             0.2855           +1.3448j            1.3748            0.2167\n",
      "AR.7            -0.4781           -1.3378j            1.4206           -0.3046\n",
      "AR.8            -0.4781           +1.3378j            1.4206            0.3046\n",
      "AR.9            -1.1753           -0.9294j            1.4983           -0.3935\n",
      "AR.10           -1.1753           +0.9294j            1.4983            0.3935\n",
      "AR.11           -1.7344           -0.2088j            1.7469           -0.4809\n",
      "AR.12           -1.7344           +0.2088j            1.7469            0.4809\n",
      "------------------------------------------------------------------------------\n",
      "                            AutoReg Model Results                             \n",
      "==============================================================================\n",
      "Dep. Variable:                    BNB   No. Observations:                14215\n",
      "Model:             Restr. AutoReg(12)   Log Likelihood               68933.978\n",
      "Method:               Conditional MLE   S.D. of innovations              0.002\n",
      "Date:                Tue, 16 Mar 2021   AIC                            -12.544\n",
      "Time:                        14:59:45   BIC                            -12.541\n",
      "Sample:                            12   HQIC                           -12.543\n",
      "                                14215                                         \n",
      "==============================================================================\n",
      "                 coef    std err          z      P>|z|      [0.025      0.975]\n",
      "------------------------------------------------------------------------------\n",
      "intercept   1.409e-05   1.58e-05      0.890      0.374    -1.7e-05    4.51e-05\n",
      "BNB.L1         0.0193      0.008      2.305      0.021       0.003       0.036\n",
      "BNB.L11       -0.0087      0.008     -1.036      0.300      -0.025       0.008\n",
      "BNB.L12       -0.0274      0.008     -3.262      0.001      -0.044      -0.011\n",
      "                                    Roots                                     \n",
      "==============================================================================\n",
      "                   Real          Imaginary           Modulus         Frequency\n",
      "------------------------------------------------------------------------------\n",
      "AR.1             1.2772           -0.3473j            1.3235           -0.0423\n",
      "AR.2             1.2772           +0.3473j            1.3235            0.0423\n",
      "AR.3             0.9299           -0.9498j            1.3292           -0.1267\n",
      "AR.4             0.9299           +0.9498j            1.3292            0.1267\n",
      "AR.5             0.3264           -1.2997j            1.3401           -0.2108\n",
      "AR.6             0.3264           +1.2997j            1.3401            0.2108\n",
      "AR.7            -0.3737           -1.3023j            1.3549           -0.2945\n",
      "AR.8            -0.3737           +1.3023j            1.3549            0.2945\n",
      "AR.9            -0.9829           -0.9549j            1.3703           -0.3773\n",
      "AR.10           -0.9829           +0.9549j            1.3703            0.3773\n",
      "AR.11           -1.3358           -0.3498j            1.3809           -0.4592\n",
      "AR.12           -1.3358           +0.3498j            1.3809            0.4592\n",
      "------------------------------------------------------------------------------\n",
      "                            AutoReg Model Results                             \n",
      "==============================================================================\n",
      "Dep. Variable:                   LINK   No. Observations:                14215\n",
      "Model:             Restr. AutoReg(12)   Log Likelihood               62961.851\n",
      "Method:               Conditional MLE   S.D. of innovations              0.003\n",
      "Date:                Tue, 16 Mar 2021   AIC                            -11.703\n",
      "Time:                        14:59:45   BIC                            -11.701\n",
      "Sample:                            12   HQIC                           -11.702\n",
      "                                14215                                         \n",
      "==============================================================================\n",
      "                 coef    std err          z      P>|z|      [0.025      0.975]\n",
      "------------------------------------------------------------------------------\n",
      "intercept   5.925e-05   2.41e-05      2.455      0.014     1.2e-05       0.000\n",
      "LINK.L1        0.0262      0.008      3.124      0.002       0.010       0.043\n",
      "LINK.L11      -0.0070      0.008     -0.839      0.402      -0.023       0.009\n",
      "LINK.L12      -0.0274      0.008     -3.263      0.001      -0.044      -0.011\n",
      "                                    Roots                                     \n",
      "==============================================================================\n",
      "                   Real          Imaginary           Modulus         Frequency\n",
      "------------------------------------------------------------------------------\n",
      "AR.1             1.2805           -0.3469j            1.3266           -0.0421\n",
      "AR.2             1.2805           +0.3469j            1.3266            0.0421\n",
      "AR.3             0.9343           -0.9492j            1.3319           -0.1263\n",
      "AR.4             0.9343           +0.9492j            1.3319            0.1263\n",
      "AR.5             0.3320           -1.3001j            1.3418           -0.2102\n",
      "AR.6             0.3320           +1.3001j            1.3418            0.2102\n",
      "AR.7            -0.3677           -1.3039j            1.3547           -0.2937\n",
      "AR.8            -0.3677           +1.3039j            1.3547            0.2937\n",
      "AR.9            -0.9772           -0.9568j            1.3676           -0.3767\n",
      "AR.10           -0.9772           +0.9568j            1.3676            0.3767\n",
      "AR.11           -1.3306           -0.3507j            1.3760           -0.4590\n",
      "AR.12           -1.3306           +0.3507j            1.3760            0.4590\n",
      "------------------------------------------------------------------------------\n",
      "                            AutoReg Model Results                             \n",
      "==============================================================================\n",
      "Dep. Variable:                    ADA   No. Observations:                14215\n",
      "Model:             Restr. AutoReg(12)   Log Likelihood               68854.311\n",
      "Method:               Conditional MLE   S.D. of innovations              0.002\n",
      "Date:                Tue, 16 Mar 2021   AIC                            -12.533\n",
      "Time:                        14:59:45   BIC                            -12.530\n",
      "Sample:                            12   HQIC                           -12.532\n",
      "                                14215                                         \n",
      "==============================================================================\n",
      "                 coef    std err          z      P>|z|      [0.025      0.975]\n",
      "------------------------------------------------------------------------------\n",
      "intercept   5.457e-05   1.59e-05      3.422      0.001    2.33e-05    8.58e-05\n",
      "ADA.L1         0.0611      0.008      7.299      0.000       0.045       0.078\n",
      "ADA.L11       -0.0123      0.008     -1.471      0.141      -0.029       0.004\n",
      "ADA.L12       -0.0139      0.008     -1.653      0.098      -0.030       0.003\n",
      "                                    Roots                                     \n",
      "==============================================================================\n",
      "                   Real          Imaginary           Modulus         Frequency\n",
      "------------------------------------------------------------------------------\n",
      "AR.1             1.3124           -0.3613j            1.3612           -0.0428\n",
      "AR.2             1.3124           +0.3613j            1.3612            0.0428\n",
      "AR.3             0.9503           -0.9904j            1.3725           -0.1283\n",
      "AR.4             0.9503           +0.9904j            1.3725            0.1283\n",
      "AR.5             0.3146           -1.3595j            1.3955           -0.2138\n",
      "AR.6             0.3146           +1.3595j            1.3955            0.2138\n",
      "AR.7            -0.4333           -1.3641j            1.4312           -0.2990\n",
      "AR.8            -0.4333           +1.3641j            1.4312            0.2990\n",
      "AR.9            -1.0966           -0.9968j            1.4819           -0.3826\n",
      "AR.10           -1.0966           +0.9968j            1.4819            0.3826\n",
      "AR.11           -1.4922           -0.3624j            1.5356           -0.4621\n",
      "AR.12           -1.4922           +0.3624j            1.5356            0.4621\n",
      "------------------------------------------------------------------------------\n",
      "                            AutoReg Model Results                             \n",
      "==============================================================================\n",
      "Dep. Variable:                    LTC   No. Observations:                14215\n",
      "Model:             Restr. AutoReg(12)   Log Likelihood               68882.381\n",
      "Method:               Conditional MLE   S.D. of innovations              0.002\n",
      "Date:                Tue, 16 Mar 2021   AIC                            -12.537\n",
      "Time:                        14:59:45   BIC                            -12.534\n",
      "Sample:                            12   HQIC                           -12.536\n",
      "                                14215                                         \n",
      "==============================================================================\n",
      "                 coef    std err          z      P>|z|      [0.025      0.975]\n",
      "------------------------------------------------------------------------------\n",
      "intercept   2.868e-05   1.59e-05      1.804      0.071   -2.49e-06    5.98e-05\n",
      "LTC.L1         0.0682      0.008      8.143      0.000       0.052       0.085\n",
      "LTC.L11       -0.0147      0.008     -1.754      0.079      -0.031       0.002\n",
      "LTC.L12       -0.0180      0.008     -2.140      0.032      -0.034      -0.002\n",
      "                                    Roots                                     \n",
      "==============================================================================\n",
      "                   Real          Imaginary           Modulus         Frequency\n",
      "------------------------------------------------------------------------------\n",
      "AR.1             1.2863           -0.3533j            1.3340           -0.0427\n",
      "AR.2             1.2863           +0.3533j            1.3340            0.0427\n",
      "AR.3             0.9329           -0.9692j            1.3452           -0.1280\n",
      "AR.4             0.9329           +0.9692j            1.3452            0.1280\n",
      "AR.5             0.3118           -1.3317j            1.3677           -0.2134\n",
      "AR.6             0.3118           +1.3317j            1.3677            0.2134\n",
      "AR.7            -0.4197           -1.3379j            1.4021           -0.2984\n",
      "AR.8            -0.4197           +1.3379j            1.4021            0.2984\n",
      "AR.9            -1.0680           -0.9796j            1.4492           -0.3819\n",
      "AR.10           -1.0680           +0.9796j            1.4492            0.3819\n",
      "AR.11           -1.4531           -0.3571j            1.4963           -0.4617\n",
      "AR.12           -1.4531           +0.3571j            1.4963            0.4617\n",
      "------------------------------------------------------------------------------\n",
      "                            AutoReg Model Results                             \n",
      "==============================================================================\n",
      "Dep. Variable:                    EOS   No. Observations:                14215\n",
      "Model:             Restr. AutoReg(12)   Log Likelihood               68868.071\n",
      "Method:               Conditional MLE   S.D. of innovations              0.002\n",
      "Date:                Tue, 16 Mar 2021   AIC                            -12.535\n",
      "Time:                        14:59:45   BIC                            -12.532\n",
      "Sample:                            12   HQIC                           -12.534\n",
      "                                14215                                         \n",
      "==============================================================================\n",
      "                 coef    std err          z      P>|z|      [0.025      0.975]\n",
      "------------------------------------------------------------------------------\n",
      "intercept   4.106e-05   1.59e-05      2.578      0.010    9.84e-06    7.23e-05\n",
      "EOS.L1         0.0711      0.008      8.491      0.000       0.055       0.087\n",
      "EOS.L11       -0.0149      0.008     -1.770      0.077      -0.031       0.002\n",
      "EOS.L12       -0.0157      0.008     -1.866      0.062      -0.032       0.001\n",
      "                                    Roots                                     \n",
      "==============================================================================\n",
      "                   Real          Imaginary           Modulus         Frequency\n",
      "------------------------------------------------------------------------------\n",
      "AR.1             1.2944           -0.3565j            1.3426           -0.0428\n",
      "AR.2             1.2944           +0.3565j            1.3426            0.0428\n",
      "AR.3             0.9372           -0.9778j            1.3544           -0.1284\n",
      "AR.4             0.9372           +0.9778j            1.3544            0.1284\n",
      "AR.5             0.3089           -1.3433j            1.3783           -0.2140\n",
      "AR.6             0.3089           +1.3433j            1.3783            0.2140\n",
      "AR.7            -0.4325           -1.3481j            1.4158           -0.2994\n",
      "AR.8            -0.4325           +1.3481j            1.4158            0.2994\n",
      "AR.9            -1.0926           -0.9838j            1.4702           -0.3833\n",
      "AR.10           -1.0926           +0.9838j            1.4702            0.3833\n",
      "AR.11           -1.4899           -0.3563j            1.5319           -0.4626\n",
      "AR.12           -1.4899           +0.3563j            1.5319            0.4626\n",
      "------------------------------------------------------------------------------\n",
      "                            AutoReg Model Results                             \n",
      "==============================================================================\n",
      "Dep. Variable:                    TRX   No. Observations:                14215\n",
      "Model:             Restr. AutoReg(12)   Log Likelihood               68600.663\n",
      "Method:               Conditional MLE   S.D. of innovations              0.002\n",
      "Date:                Tue, 16 Mar 2021   AIC                            -12.497\n",
      "Time:                        14:59:45   BIC                            -12.495\n",
      "Sample:                            12   HQIC                           -12.496\n",
      "                                14215                                         \n",
      "==============================================================================\n",
      "                 coef    std err          z      P>|z|      [0.025      0.975]\n",
      "------------------------------------------------------------------------------\n",
      "intercept   2.522e-05   1.62e-05      1.555      0.120   -6.57e-06     5.7e-05\n",
      "TRX.L1         0.0539      0.008      6.430      0.000       0.037       0.070\n",
      "TRX.L11       -0.0239      0.008     -2.845      0.004      -0.040      -0.007\n",
      "TRX.L12       -0.0023      0.008     -0.273      0.785      -0.019       0.014\n",
      "                                    Roots                                     \n",
      "==============================================================================\n",
      "                   Real          Imaginary           Modulus         Frequency\n",
      "------------------------------------------------------------------------------\n",
      "AR.1             1.3258           -0.3821j            1.3797           -0.0447\n",
      "AR.2             1.3258           +0.3821j            1.3797            0.0447\n",
      "AR.3             0.9223           -1.0356j            1.3868           -0.1342\n",
      "AR.4             0.9223           +1.0356j            1.3868            0.1342\n",
      "AR.5             0.2248           -1.3811j            1.3993           -0.2243\n",
      "AR.6             0.2248           +1.3811j            1.3993            0.2243\n",
      "AR.7            -0.5643           -1.2970j            1.4145           -0.3153\n",
      "AR.8            -0.5643           +1.2970j            1.4145            0.3153\n",
      "AR.9            -1.1921           -0.7854j            1.4276           -0.4073\n",
      "AR.10           -1.1921           +0.7854j            1.4276            0.4073\n",
      "AR.11           -1.4330           -0.0000j            1.4330           -0.5000\n",
      "AR.12          -10.4219           -0.0000j           10.4219           -0.5000\n",
      "------------------------------------------------------------------------------\n",
      "                            AutoReg Model Results                             \n",
      "==============================================================================\n",
      "Dep. Variable:                    XLM   No. Observations:                14215\n",
      "Model:             Restr. AutoReg(12)   Log Likelihood               69518.681\n",
      "Method:               Conditional MLE   S.D. of innovations              0.002\n",
      "Date:                Tue, 16 Mar 2021   AIC                            -12.626\n",
      "Time:                        14:59:45   BIC                            -12.624\n",
      "Sample:                            12   HQIC                           -12.626\n",
      "                                14215                                         \n",
      "==============================================================================\n",
      "                 coef    std err          z      P>|z|      [0.025      0.975]\n",
      "------------------------------------------------------------------------------\n",
      "intercept   5.359e-05   1.52e-05      3.521      0.000    2.38e-05    8.34e-05\n",
      "XLM.L1         0.0711      0.008      8.490      0.000       0.055       0.087\n",
      "XLM.L11       -0.0043      0.008     -0.513      0.608      -0.021       0.012\n",
      "XLM.L12       -0.0156      0.008     -1.863      0.062      -0.032       0.001\n",
      "                                    Roots                                     \n",
      "==============================================================================\n",
      "                   Real          Imaginary           Modulus         Frequency\n",
      "------------------------------------------------------------------------------\n",
      "AR.1             1.3344           -0.3594j            1.3820           -0.0419\n",
      "AR.2             1.3344           +0.3594j            1.3820            0.0419\n",
      "AR.3             0.9789           -0.9867j            1.3899           -0.1256\n",
      "AR.4             0.9789           +0.9867j            1.3899            0.1256\n",
      "AR.5             0.3543           -1.3587j            1.4042           -0.2094\n",
      "AR.6             0.3543           +1.3587j            1.4042            0.2094\n",
      "AR.7            -0.3794           -1.3703j            1.4218           -0.2930\n",
      "AR.8            -0.3794           +1.3703j            1.4218            0.2930\n",
      "AR.9            -1.0248           -1.0099j            1.4388           -0.3762\n",
      "AR.10           -1.0248           +1.0099j            1.4388            0.3762\n",
      "AR.11           -1.4012           -0.3710j            1.4495           -0.4588\n",
      "AR.12           -1.4012           +0.3710j            1.4495            0.4588\n",
      "------------------------------------------------------------------------------\n",
      "                            AutoReg Model Results                             \n",
      "==============================================================================\n",
      "Dep. Variable:                    NEO   No. Observations:                14215\n",
      "Model:             Restr. AutoReg(12)   Log Likelihood               67794.031\n",
      "Method:               Conditional MLE   S.D. of innovations              0.002\n",
      "Date:                Tue, 16 Mar 2021   AIC                            -12.384\n",
      "Time:                        14:59:45   BIC                            -12.381\n",
      "Sample:                            12   HQIC                           -12.383\n",
      "                                14215                                         \n",
      "==============================================================================\n",
      "                 coef    std err          z      P>|z|      [0.025      0.975]\n",
      "------------------------------------------------------------------------------\n",
      "intercept   8.031e-05   1.72e-05      4.668      0.000    4.66e-05       0.000\n",
      "NEO.L1         0.0425      0.008      5.068      0.000       0.026       0.059\n",
      "NEO.L11       -0.0121      0.008     -1.438      0.151      -0.029       0.004\n",
      "NEO.L12       -0.0044      0.008     -0.521      0.602      -0.021       0.012\n",
      "                                    Roots                                     \n",
      "==============================================================================\n",
      "                   Real          Imaginary           Modulus         Frequency\n",
      "------------------------------------------------------------------------------\n",
      "AR.1             1.3777           -0.3894j            1.4317           -0.0438\n",
      "AR.2             1.3777           +0.3894j            1.4317            0.0438\n",
      "AR.3             0.9767           -1.0622j            1.4430           -0.1317\n",
      "AR.4             0.9767           +1.0622j            1.4430            0.1317\n",
      "AR.5             0.2751           -1.4403j            1.4663           -0.2200\n",
      "AR.6             0.2751           +1.4403j            1.4663            0.2200\n",
      "AR.7            -0.5466           -1.4018j            1.5046           -0.3092\n",
      "AR.8            -0.5466           +1.4018j            1.5046            0.3092\n",
      "AR.9            -1.2695           -0.9152j            1.5649           -0.4006\n",
      "AR.10           -1.2695           +0.9152j            1.5649            0.4006\n",
      "AR.11           -1.6305           -0.0000j            1.6305           -0.5000\n",
      "AR.12           -2.7559           -0.0000j            2.7559           -0.5000\n",
      "------------------------------------------------------------------------------\n",
      "                            AutoReg Model Results                             \n",
      "==============================================================================\n",
      "Dep. Variable:                    VET   No. Observations:                14215\n",
      "Model:             Restr. AutoReg(12)   Log Likelihood               65372.596\n",
      "Method:               Conditional MLE   S.D. of innovations              0.002\n",
      "Date:                Tue, 16 Mar 2021   AIC                            -12.043\n",
      "Time:                        14:59:45   BIC                            -12.040\n",
      "Sample:                            12   HQIC                           -12.042\n",
      "                                14215                                         \n",
      "==============================================================================\n",
      "                 coef    std err          z      P>|z|      [0.025      0.975]\n",
      "------------------------------------------------------------------------------\n",
      "intercept   4.021e-05   2.04e-05      1.975      0.048    3.03e-07    8.01e-05\n",
      "VET.L1         0.0648      0.008      7.744      0.000       0.048       0.081\n",
      "VET.L11       -0.0270      0.008     -3.224      0.001      -0.043      -0.011\n",
      "VET.L12       -0.0051      0.008     -0.605      0.545      -0.022       0.011\n",
      "                                    Roots                                     \n",
      "==============================================================================\n",
      "                   Real          Imaginary           Modulus         Frequency\n",
      "------------------------------------------------------------------------------\n",
      "AR.1             1.2983           -0.3707j            1.3502           -0.0443\n",
      "AR.2             1.2983           +0.3707j            1.3502            0.0443\n",
      "AR.3             0.9117           -1.0088j            1.3598           -0.1330\n",
      "AR.4             0.9117           +1.0088j            1.3598            0.1330\n",
      "AR.5             0.2367           -1.3574j            1.3779           -0.2225\n",
      "AR.6             0.2367           +1.3574j            1.3779            0.2225\n",
      "AR.7            -0.5423           -1.2933j            1.4024           -0.3132\n",
      "AR.8            -0.5423           +1.2933j            1.4024            0.3132\n",
      "AR.9            -1.1843           -0.7979j            1.4279           -0.4056\n",
      "AR.10           -1.1843           +0.7979j            1.4279            0.4056\n",
      "AR.11           -1.4405           -0.0000j            1.4405           -0.5000\n",
      "AR.12           -5.3249           -0.0000j            5.3249           -0.5000\n",
      "------------------------------------------------------------------------------\n",
      "                            AutoReg Model Results                             \n",
      "==============================================================================\n",
      "Dep. Variable:                    ETC   No. Observations:                14215\n",
      "Model:             Restr. AutoReg(12)   Log Likelihood               67633.420\n",
      "Method:               Conditional MLE   S.D. of innovations              0.002\n",
      "Date:                Tue, 16 Mar 2021   AIC                            -12.361\n",
      "Time:                        14:59:45   BIC                            -12.358\n",
      "Sample:                            12   HQIC                           -12.360\n",
      "                                14215                                         \n",
      "==============================================================================\n",
      "                 coef    std err          z      P>|z|      [0.025      0.975]\n",
      "------------------------------------------------------------------------------\n",
      "intercept   5.034e-05   1.74e-05      2.897      0.004    1.63e-05    8.44e-05\n",
      "ETC.L1         0.0697      0.008      8.325      0.000       0.053       0.086\n",
      "ETC.L11       -0.0059      0.008     -0.701      0.483      -0.022       0.011\n",
      "ETC.L12        0.0158      0.008      1.877      0.060      -0.001       0.032\n",
      "                                    Roots                                     \n",
      "==============================================================================\n",
      "                   Real          Imaginary           Modulus         Frequency\n",
      "------------------------------------------------------------------------------\n",
      "AR.1            -1.3964           -0.0000j            1.3964           -0.5000\n",
      "AR.2            -1.2014           -0.7147j            1.3979           -0.4146\n",
      "AR.3            -1.2014           +0.7147j            1.3979            0.4146\n",
      "AR.4            -0.6721           -1.2309j            1.4025           -0.3295\n",
      "AR.5            -0.6721           +1.2309j            1.4025            0.3295\n",
      "AR.6             0.0422           -1.4097j            1.4104           -0.2452\n",
      "AR.7             0.0422           +1.4097j            1.4104            0.2452\n",
      "AR.8             0.7454           -1.2099j            1.4211           -0.1621\n",
      "AR.9             0.7454           +1.2099j            1.4211            0.1621\n",
      "AR.10            1.4365           -0.0000j            1.4365           -0.0000\n",
      "AR.11            1.2526           -0.6935j            1.4317           -0.0805\n",
      "AR.12            1.2526           +0.6935j            1.4317            0.0805\n",
      "------------------------------------------------------------------------------\n",
      "                            AutoReg Model Results                             \n",
      "==============================================================================\n",
      "Dep. Variable:                    ONT   No. Observations:                14215\n",
      "Model:             Restr. AutoReg(12)   Log Likelihood               66858.774\n",
      "Method:               Conditional MLE   S.D. of innovations              0.002\n",
      "Date:                Tue, 16 Mar 2021   AIC                            -12.252\n",
      "Time:                        14:59:45   BIC                            -12.249\n",
      "Sample:                            12   HQIC                           -12.251\n",
      "                                14215                                         \n",
      "==============================================================================\n",
      "                 coef    std err          z      P>|z|      [0.025      0.975]\n",
      "------------------------------------------------------------------------------\n",
      "intercept   5.441e-05   1.83e-05      2.965      0.003    1.84e-05    9.04e-05\n",
      "ONT.L1         0.0459      0.008      5.475      0.000       0.029       0.062\n",
      "ONT.L11       -0.0062      0.008     -0.743      0.458      -0.023       0.010\n",
      "ONT.L12       -0.0091      0.008     -1.084      0.279      -0.026       0.007\n",
      "                                    Roots                                     \n",
      "==============================================================================\n",
      "                   Real          Imaginary           Modulus         Frequency\n",
      "------------------------------------------------------------------------------\n",
      "AR.1             1.3743           -0.3766j            1.4249           -0.0426\n",
      "AR.2             1.3743           +0.3766j            1.4249            0.0426\n",
      "AR.3             0.9975           -1.0318j            1.4351           -0.1277\n",
      "AR.4             0.9975           +1.0318j            1.4351            0.1277\n",
      "AR.5             0.3384           -1.4155j            1.4554           -0.2127\n",
      "AR.6             0.3384           +1.4155j            1.4554            0.2127\n",
      "AR.7            -0.4330           -1.4211j            1.4856           -0.2971\n",
      "AR.8            -0.4330           +1.4211j            1.4856            0.2971\n",
      "AR.9            -1.1113           -1.0423j            1.5236           -0.3801\n",
      "AR.10           -1.1113           +1.0423j            1.5236            0.3801\n",
      "AR.11           -1.5086           -0.3814j            1.5561           -0.4606\n",
      "AR.12           -1.5086           +0.3814j            1.5561            0.4606\n",
      "------------------------------------------------------------------------------\n",
      "                            AutoReg Model Results                             \n",
      "==============================================================================\n",
      "Dep. Variable:                    BTT   No. Observations:                14215\n",
      "Model:             Restr. AutoReg(12)   Log Likelihood               68026.172\n",
      "Method:               Conditional MLE   S.D. of innovations              0.002\n",
      "Date:                Tue, 16 Mar 2021   AIC                            -12.416\n",
      "Time:                        14:59:45   BIC                            -12.414\n",
      "Sample:                            12   HQIC                           -12.415\n",
      "                                14215                                         \n",
      "==============================================================================\n",
      "                 coef    std err          z      P>|z|      [0.025      0.975]\n",
      "------------------------------------------------------------------------------\n",
      "intercept   3.254e-05   1.69e-05      1.926      0.054   -5.68e-07    6.56e-05\n",
      "BTT.L1         0.0381      0.008      4.536      0.000       0.022       0.054\n",
      "BTT.L11       -0.0088      0.008     -1.055      0.292      -0.025       0.008\n",
      "BTT.L12       -0.0223      0.008     -2.666      0.008      -0.039      -0.006\n",
      "                                    Roots                                     \n",
      "==============================================================================\n",
      "                   Real          Imaginary           Modulus         Frequency\n",
      "------------------------------------------------------------------------------\n",
      "AR.1             1.2918           -0.3515j            1.3387           -0.0423\n",
      "AR.2             1.2918           +0.3515j            1.3387            0.0423\n",
      "AR.3             0.9410           -0.9625j            1.3461           -0.1268\n",
      "AR.4             0.9410           +0.9625j            1.3461            0.1268\n",
      "AR.5             0.3292           -1.3197j            1.3602           -0.2111\n",
      "AR.6             0.3292           +1.3197j            1.3602            0.2111\n",
      "AR.7            -0.3839           -1.3250j            1.3795           -0.2949\n",
      "AR.8            -0.3839           +1.3250j            1.3795            0.2949\n",
      "AR.9            -1.0072           -0.9730j            1.4004           -0.3777\n",
      "AR.10           -1.0072           +0.9730j            1.4004            0.3777\n",
      "AR.11           -1.3695           -0.3567j            1.4152           -0.4594\n",
      "AR.12           -1.3695           +0.3567j            1.4152            0.4594\n",
      "------------------------------------------------------------------------------\n"
     ]
    }
   ],
   "source": [
    "for c in predictions.keys():\n",
    "    print(predictions[c].summary())"
   ]
  },
  {
   "cell_type": "code",
   "execution_count": 81,
   "metadata": {},
   "outputs": [
    {
     "name": "stdout",
     "output_type": "stream",
     "text": [
      "['__class__', '__delattr__', '__dict__', '__dir__', '__doc__', '__eq__', '__format__', '__ge__', '__getattribute__', '__gt__', '__hash__', '__init__', '__init_subclass__', '__le__', '__lt__', '__module__', '__ne__', '__new__', '__reduce__', '__reduce_ex__', '__repr__', '__setattr__', '__sizeof__', '__str__', '__subclasshook__', '__weakref__', '_ar_lags', '_cache', '_data_attr', '_data_in_cache', '_df_model', '_get_robustcov_results', '_hold_back', '_lag_repr', '_max_lag', '_n_totobs', '_nobs', '_params', '_use_t', 'aic', 'ar_lags', 'arfreq', 'bic', 'bse', 'conf_int', 'cov_params', 'cov_params_default', 'data', 'df_model', 'df_resid', 'diagnostic_summary', 'f_test', 'fittedvalues', 'forecast', 'fpe', 'get_prediction', 'hqic', 'initialize', 'llf', 'load', 'model', 'nobs', 'normalized_cov_params', 'params', 'plot_diagnostics', 'plot_predict', 'predict', 'pvalues', 'remove_data', 'resid', 'roots', 'save', 'scale', 'sigma2', 'summary', 't_test', 't_test_pairwise', 'test_heteroskedasticity', 'test_normality', 'test_serial_correlation', 'tvalues', 'use_t', 'wald_test', 'wald_test_terms']\n"
     ]
    }
   ],
   "source": [
    "btc = predictions['BTC']\n",
    "print(dir(btc))"
   ]
  },
  {
   "cell_type": "code",
   "execution_count": 82,
   "metadata": {},
   "outputs": [],
   "source": [
    "ts = hour_ret['BTC'].dropna(how='any')\n",
    "n = ts_data.shape"
   ]
  },
  {
   "cell_type": "code",
   "execution_count": null,
   "metadata": {},
   "outputs": [],
   "source": [
    "out = '{3}\\t|AIC: {0:0.3f}, HQIC: {1:0.3f}, BIC: {2:0.3f}'\n",
    "predictions = {}\n",
    "with warnings.catch_warnings():\n",
    "    warnings.filterwarnings(\"ignore\")\n",
    "    \n",
    "        "
   ]
  },
  {
   "cell_type": "markdown",
   "metadata": {},
   "source": [
    "#### SARIMA()\n"
   ]
  },
  {
   "cell_type": "markdown",
   "metadata": {
    "id": "xuxCe8zo56DD"
   },
   "source": [
    "## Transformer Model"
   ]
  },
  {
   "cell_type": "markdown",
   "metadata": {
    "id": "xpi1uZqL6P_C"
   },
   "source": [
    "##### Multi-head Attention"
   ]
  },
  {
   "cell_type": "markdown",
   "metadata": {
    "id": "UlCQkLdSL0zo"
   },
   "source": [
    "\n",
    "## Predictive Models"
   ]
  },
  {
   "cell_type": "code",
   "execution_count": null,
   "metadata": {
    "colab": {
     "base_uri": "https://localhost:8080/"
    },
    "id": "niqnSxqbiTQH",
    "outputId": "8e119e64-8295-4ca5-bfa4-1944f66db384"
   },
   "outputs": [],
   "source": [
    "######## AE Latent Dataset ########\n",
    "ae_latent_train_dataset, ae_latent_test_dataset\n",
    "ae_latent_train_loader, ae_latent_test_loader\n",
    "\n",
    "######## VAE Latent Dataset ########\n",
    "vae_latent_train_dataset, vae_latent_test_dataset\n",
    "vae_latent_train_loader, vae_latent_test_loader"
   ]
  },
  {
   "cell_type": "code",
   "execution_count": null,
   "metadata": {
    "id": "5P4851HJLYtL"
   },
   "outputs": [],
   "source": [
    "# Leverage helper function code to create rolling multivariate AR windows\n",
    "#   to serve as input for the AE models"
   ]
  },
  {
   "cell_type": "code",
   "execution_count": null,
   "metadata": {
    "id": "IMq36ZC4MDez"
   },
   "outputs": [],
   "source": [
    "# grab / organize the latent outputs from the \n",
    "#   encoding models & prep for prediction"
   ]
  },
  {
   "cell_type": "code",
   "execution_count": null,
   "metadata": {
    "id": "UxIZPIaqMP_y"
   },
   "outputs": [],
   "source": [
    "import warnings\n",
    "# warnings.filterwarnings(\"UserWarning\")\n",
    "\n",
    "# LSTM \n",
    "class SimpleLSTM(nn.Module):\n",
    "    def __init__(self, input_size, hidden_size, output_size):\n",
    "        super().__init__()\n",
    "        self.lstm = torch.nn.LSTM(input_size, hidden_size, batch_first=True)\n",
    "        self.linear = torch.nn.Linear(hidden_size, output_size)\n",
    "\n",
    "    def forward(self, x):\n",
    "        h = self.lstm(x)[0]\n",
    "        x = self.linear(h)\n",
    "        return x\n",
    "    \n",
    "    def get_states_across_time(self, x):\n",
    "        h_c = None\n",
    "        h_list, c_list = list(), list()\n",
    "        with torch.no_grad():\n",
    "            for t in range(x.size(1)):\n",
    "                h_c = self.lstm(x[:, [t], :], h_c)[1]\n",
    "                h_list.append(h_c[0])\n",
    "                c_list.append(h_c[1])\n",
    "            h = torch.cat(h_list)\n",
    "            c = torch.cat(c_list)\n",
    "        return h, c\n",
    "\n",
    "def train(model, train_data_gen, criterion, optimizer, device):\n",
    "    # Set the model to training mode. This will turn on layers that would\n",
    "    # otherwise behave differently during evaluation, such as dropout.\n",
    "    model.train()\n",
    "\n",
    "    # Store the number of sequences that were classified correctly\n",
    "    num_correct = 0\n",
    "\n",
    "    # Iterate over every batch of sequences. Note that the length of a data generator\n",
    "    # is defined as the number of batches required to produce a total of roughly 1000\n",
    "    # sequences given a batch size.\n",
    "    for data, target in train_data_gen:\n",
    "\n",
    "        # Request a batch of sequences and class labels, convert them into tensors\n",
    "        # of the correct type, and then send them to the appropriate device.\n",
    "        # data, target = train_data_gen[batch_idx]\n",
    "        # data, target = torch.from_numpy(data).float().to(device), torch.from_numpy(target).long().to(device)\n",
    "        data, target = torch.tensor(data).float().to(device), torch.tensor(target).long().to(device)\n",
    "\n",
    "        # Perform the forward pass of the model\n",
    "        output = model(data)  # Step ①\n",
    "\n",
    "        # Pick only the output corresponding to last sequence element (input is pre padded)\n",
    "        output = output[:, -1, :]\n",
    "\n",
    "        # Compute the value of the loss for this batch. For loss functions like CrossEntropyLoss,\n",
    "        # the second argument is actually expected to be a tensor of class indices rather than\n",
    "        # one-hot encoded class labels. One approach is to take advantage of the one-hot encoding\n",
    "        # of the target and call argmax along its second dimension to create a tensor of shape\n",
    "        # (batch_size) containing the index of the class label that was hot for each sequence.\n",
    "        target = target.argmax(dim=1)\n",
    "\n",
    "        loss = criterion(output, target)  # Step ②\n",
    "\n",
    "        # Clear the gradient buffers of the optimized parameters.\n",
    "        # Otherwise, gradients from the previous batch would be accumulated.\n",
    "        optimizer.zero_grad()  # Step ③\n",
    "\n",
    "        loss.backward()  # Step ④\n",
    "\n",
    "        optimizer.step()  # Step ⑤\n",
    "\n",
    "        y_pred = output.argmax(dim=1)\n",
    "        num_correct += (y_pred == target).sum().item()\n",
    "\n",
    "    return num_correct, loss.item() \n",
    "\n",
    "def test(model, test_data_gen, criterion, device):\n",
    "    # Set the model to evaluation mode. This will turn off layers that would\n",
    "    # otherwise behave differently during training, such as dropout.\n",
    "    model.eval()\n",
    "\n",
    "    # Store the number of sequences that were classified correctly\n",
    "    num_correct = 0\n",
    "\n",
    "    # A context manager is used to disable gradient calculations during inference\n",
    "    # to reduce memory usage, as we typically don't need the gradients at this point.\n",
    "    with torch.no_grad():\n",
    "        for data, target in test_data_gen:\n",
    "            data, target = torch.tensor(data).float().to(device), torch.tensor(target).long().to(device)\n",
    "\n",
    "            output = model(data)\n",
    "            # Pick only the output corresponding to last sequence element (input is pre padded)\n",
    "            output = output[:, -1, :]\n",
    "\n",
    "            target = target.argmax(dim=1)\n",
    "            loss = criterion(output, target)\n",
    "\n",
    "            y_pred = output.argmax(dim=1)\n",
    "            num_correct += (y_pred == target).sum().item()\n",
    "\n",
    "    return num_correct, loss.item()\n",
    "\n",
    "def train_and_test(model, train_data_gen, test_data_gen, criterion, optimizer, max_epochs, verbose=True):\n",
    "    # Automatically determine the device that PyTorch should use for computation\n",
    "    device = torch.device('cuda:0' if torch.cuda.is_available() else 'cpu')\n",
    "\n",
    "    # Move model to the device which will be used for train and test\n",
    "    model.to(device)\n",
    "\n",
    "    # Track the value of the loss function and model accuracy across epochs\n",
    "    history_train = {'loss': [], 'acc': []}\n",
    "    history_test = {'loss': [], 'acc': []}\n",
    "\n",
    "    for epoch in range(max_epochs):\n",
    "        # Run the training loop and calculate the accuracy.\n",
    "        # Remember that the length of a data generator is the number of batches,\n",
    "        # so we multiply it by the batch size to recover the total number of sequences.\n",
    "        num_correct, loss = train(model, train_data_gen, criterion, optimizer, device)\n",
    "        accuracy = float(num_correct) / (len(train_data_gen) * train_data_gen.batch_size) * 100\n",
    "        history_train['loss'].append(loss)\n",
    "        history_train['acc'].append(accuracy)\n",
    "\n",
    "        # Do the same for the testing loop\n",
    "        num_correct, loss = test(model, test_data_gen, criterion, device)\n",
    "        accuracy = float(num_correct) / (len(test_data_gen) * test_data_gen.batch_size) * 100\n",
    "        history_test['loss'].append(loss)\n",
    "        history_test['acc'].append(accuracy)\n",
    "\n",
    "        if verbose or epoch + 1 == max_epochs:\n",
    "            print(f'[Epoch {epoch + 1}/{max_epochs}]'\n",
    "                  f\" loss: {history_train['loss'][-1]:.4f}, acc: {history_train['acc'][-1]:2.2f}%\"\n",
    "                  f\" - test_loss: {history_test['loss'][-1]:.4f}, test_acc: {history_test['acc'][-1]:2.2f}%\")\n",
    "\n",
    "    # Generate diagnostic plots for the loss and accuracy\n",
    "    fig, axes = plt.subplots(ncols=2, figsize=(16, 8))\n",
    "    for ax, metric in zip(axes, ['loss', 'acc']):\n",
    "        ax.plot(history_train[metric])\n",
    "        ax.plot(history_test[metric])\n",
    "        ax.set_xlabel('epoch', fontsize=12)\n",
    "        ax.set_ylabel(metric, fontsize=12)\n",
    "        ax.legend(['Train', 'Test'], loc='best')\n",
    "    plt.show()\n",
    "\n",
    "    return model\n"
   ]
  },
  {
   "cell_type": "code",
   "execution_count": null,
   "metadata": {
    "colab": {
     "base_uri": "https://localhost:8080/",
     "height": 452
    },
    "id": "d-j4N5GofJ1n",
    "outputId": "2e594899-fa2b-4a11-9410-103b78341032"
   },
   "outputs": [],
   "source": [
    "# Setup the RNN and training settings\n",
    "input_size  = ae_dim\n",
    "hidden_size = 4\n",
    "output_size = n_coins\n",
    "model       = SimpleLSTM(input_size, hidden_size, output_size)\n",
    "criterion   = torch.nn.CrossEntropyLoss()\n",
    "optimizer   = torch.optim.RMSprop(model.parameters(), lr=0.001)\n",
    "max_epochs  = 4\n",
    "\n",
    "# Train the model\n",
    "model = train_and_test(model, ae_latent_train_loader, \n",
    "                       ae_latent_test_loader, criterion, \n",
    "                       optimizer, max_epochs)"
   ]
  },
  {
   "cell_type": "code",
   "execution_count": null,
   "metadata": {
    "id": "fZJy8CA7MZge"
   },
   "outputs": [],
   "source": [
    "# LSTM - predicting latent representation with AR latent predictor"
   ]
  },
  {
   "cell_type": "code",
   "execution_count": null,
   "metadata": {
    "id": "oO24sMXdL_4V"
   },
   "outputs": [],
   "source": [
    "class MultiHeadAttention(nn.Module):\n",
    "    def __init__(self, d_model, num_heads, p, d_input=None):\n",
    "        super().__init__()\n",
    "        self.num_heads = num_heads\n",
    "        self.d_model = d_model\n",
    "        if d_input is None:\n",
    "            d_xq = d_xk = d_xv = d_model\n",
    "        else:\n",
    "            d_xq, d_xk, d_xv = d_input\n",
    "            \n",
    "        # Make sure that the embedding dimension of model is a multiple of number of heads\n",
    "        assert d_model % self.num_heads == 0\n",
    "\n",
    "        self.d_k = d_model // self.num_heads\n",
    "        \n",
    "        # These are still of dimension d_model. They will be split into number of heads \n",
    "        self.W_q = nn.Linear(d_xq, d_model, bias=False)\n",
    "        self.W_k = nn.Linear(d_xk, d_model, bias=False)\n",
    "        self.W_v = nn.Linear(d_xv, d_model, bias=False)\n",
    "        \n",
    "        # Outputs of all sub-layers need to be of dimension d_model\n",
    "        self.W_h = nn.Linear(d_model, d_model)\n",
    "        \n",
    "    def scaled_dot_product_attention(self, Q, K, V):\n",
    "        batch_size = Q.size(0) \n",
    "        k_length = K.size(-2) \n",
    "        \n",
    "        # Scaling by d_k so that the soft(arg)max doesnt saturate\n",
    "        Q = Q / np.sqrt(self.d_k)                         # (bs, n_heads, q_length, dim_per_head)\n",
    "        scores = torch.matmul(Q, K.transpose(2,3))          # (bs, n_heads, q_length, k_length)\n",
    "        \n",
    "        A = nn_Softargmax(dim=-1)(scores)   # (bs, n_heads, q_length, k_length)\n",
    "        \n",
    "        # Get the weighted average of the values\n",
    "        H = torch.matmul(A, V)     # (bs, n_heads, q_length, dim_per_head)\n",
    "\n",
    "        return H, A \n",
    "\n",
    "        \n",
    "    def split_heads(self, x, batch_size):\n",
    "        \"\"\"\n",
    "        Split the last dimension into (heads X depth)\n",
    "        Return after transpose to put in shape (batch_size X num_heads X seq_length X d_k)\n",
    "        \"\"\"\n",
    "        return x.view(batch_size, -1, self.num_heads, self.d_k).transpose(1, 2)\n",
    "\n",
    "    def group_heads(self, x, batch_size):\n",
    "        \"\"\"\n",
    "        Combine the heads again to get (batch_size X seq_length X (num_heads times d_k))\n",
    "        \"\"\"\n",
    "        return x.transpose(1, 2).contiguous().view(batch_size, -1, self.num_heads * self.d_k)\n",
    "    \n",
    "\n",
    "    def forward(self, X_q, X_k, X_v):\n",
    "        batch_size, seq_length, dim = X_q.size()\n",
    "\n",
    "        # After transforming, split into num_heads \n",
    "        Q = self.split_heads(self.W_q(X_q), batch_size)  # (bs, n_heads, q_length, dim_per_head)\n",
    "        K = self.split_heads(self.W_k(X_k), batch_size)  # (bs, n_heads, k_length, dim_per_head)\n",
    "        V = self.split_heads(self.W_v(X_v), batch_size)  # (bs, n_heads, v_length, dim_per_head)\n",
    "        \n",
    "        # Calculate the attention weights for each of the heads\n",
    "        H_cat, A = self.scaled_dot_product_attention(Q, K, V)\n",
    "        \n",
    "        # Put all the heads back together by concat\n",
    "        H_cat = self.group_heads(H_cat, batch_size)    # (bs, q_length, dim)\n",
    "        \n",
    "        # Final linear layer  \n",
    "        H = self.W_h(H_cat)          # (bs, q_length, dim)\n",
    "        \n",
    "        return H, A"
   ]
  },
  {
   "cell_type": "markdown",
   "metadata": {
    "id": "0KcHmNn16gBQ"
   },
   "source": [
    "##### Convolutional Layer"
   ]
  },
  {
   "cell_type": "code",
   "execution_count": null,
   "metadata": {
    "id": "yIKSGA4n6iyN"
   },
   "outputs": [],
   "source": [
    "class CNN(nn.Module):\n",
    "    def __init__(self, d_model, hidden_dim, p):\n",
    "        super().__init__()\n",
    "        self.k1convL1 = nn.Linear(d_model,    hidden_dim)\n",
    "        self.k1convL2 = nn.Linear(hidden_dim, d_model)\n",
    "        self.activation = nn.ReLU()\n",
    "\n",
    "    def forward(self, x):\n",
    "        x = self.k1convL1(x)\n",
    "        x = self.activation(x)\n",
    "        x = self.k1convL2(x)\n",
    "        return x"
   ]
  },
  {
   "cell_type": "markdown",
   "metadata": {
    "id": "PwJzAv3n6Ttq"
   },
   "source": [
    "##### Transformer Encoder"
   ]
  },
  {
   "cell_type": "code",
   "execution_count": null,
   "metadata": {
    "id": "6-8ssHPJ6WSF"
   },
   "outputs": [],
   "source": [
    "class EncoderLayer(nn.Module):\n",
    "    def __init__(self, d_model, num_heads, conv_hidden_dim, p=0.1):\n",
    "        super().__init__()\n",
    "\n",
    "        self.mha = MultiHeadAttention(d_model, num_heads, p)\n",
    "        self.cnn = CNN(d_model, conv_hidden_dim, p)\n",
    "\n",
    "        self.layernorm1 = nn.LayerNorm(normalized_shape=d_model, eps=1e-6)\n",
    "        self.layernorm2 = nn.LayerNorm(normalized_shape=d_model, eps=1e-6)\n",
    "    \n",
    "    def forward(self, x):\n",
    "        \n",
    "        # Multi-head attention \n",
    "        attn_output, _ = self.mha(x, x, x)  # (batch_size, input_seq_len, d_model)\n",
    "        \n",
    "        # Layer norm after adding the residual connection \n",
    "        out1 = self.layernorm1(x + attn_output)  # (batch_size, input_seq_len, d_model)\n",
    "        \n",
    "        # Feed forward \n",
    "        cnn_output = self.cnn(out1)  # (batch_size, input_seq_len, d_model)\n",
    "        \n",
    "        #Second layer norm after adding residual connection \n",
    "        out2 = self.layernorm2(out1 + cnn_output)  # (batch_size, input_seq_len, d_model)\n",
    "\n",
    "        return out2"
   ]
  },
  {
   "cell_type": "markdown",
   "metadata": {
    "id": "C8xmwelQ6yW1"
   },
   "source": [
    "Blocks of N Encoder Layers + Positional encoding + Input embedding\n",
    "\n",
    "Self attention by itself does not have any recurrence or convolutions so to make it sensitive to position we must provide additional positional encodings. These are calculated as follows:"
   ]
  },
  {
   "cell_type": "code",
   "execution_count": null,
   "metadata": {
    "id": "QUMJCAPf6tO8"
   },
   "outputs": [],
   "source": [
    "def create_sinusoidal_embeddings(nb_p, dim, E):\n",
    "    theta = np.array([\n",
    "        [p / np.power(10000, 2 * (j // 2) / dim) for j in range(dim)]\n",
    "        for p in range(nb_p)\n",
    "    ])\n",
    "    E[:, 0::2] = torch.FloatTensor(np.sin(theta[:, 0::2]))\n",
    "    E[:, 1::2] = torch.FloatTensor(np.cos(theta[:, 1::2]))\n",
    "    E.detach_()\n",
    "    E.requires_grad = False\n",
    "    E = E.to(device)\n",
    "\n",
    "class Embeddings(nn.Module):\n",
    "    def __init__(self, d_model, vocab_size, max_position_embeddings, p):\n",
    "        super().__init__()\n",
    "        self.word_embeddings = nn.Embedding(vocab_size, d_model, padding_idx=1)\n",
    "        self.position_embeddings = nn.Embedding(max_position_embeddings, d_model)\n",
    "        create_sinusoidal_embeddings(\n",
    "            nb_p=max_position_embeddings,\n",
    "            dim=d_model,\n",
    "            E=self.position_embeddings.weight\n",
    "        )\n",
    "\n",
    "        self.LayerNorm = nn.LayerNorm(d_model, eps=1e-12)\n",
    "\n",
    "    def forward(self, input_ids):\n",
    "        seq_length = input_ids.size(1)\n",
    "        position_ids = torch.arange(seq_length, dtype=torch.long, device=input_ids.device) # (max_seq_length)\n",
    "        position_ids = position_ids.unsqueeze(0).expand_as(input_ids)                      # (bs, max_seq_length)\n",
    "        \n",
    "        # Get word embeddings for each input id\n",
    "        word_embeddings = self.word_embeddings(input_ids)                   # (bs, max_seq_length, dim)\n",
    "        \n",
    "        # Get position embeddings for each position id \n",
    "        position_embeddings = self.position_embeddings(position_ids)        # (bs, max_seq_length, dim)\n",
    "        \n",
    "        # Add them both \n",
    "        embeddings = word_embeddings + position_embeddings  # (bs, max_seq_length, dim)\n",
    "        \n",
    "        # Layer norm \n",
    "        embeddings = self.LayerNorm(embeddings)             # (bs, max_seq_length, dim)\n",
    "        return embeddings"
   ]
  },
  {
   "cell_type": "code",
   "execution_count": null,
   "metadata": {
    "id": "WsBVmqXQ6uCJ"
   },
   "outputs": [],
   "source": [
    "class Encoder(nn.Module):\n",
    "    def __init__(self, num_layers, d_model, num_heads, ff_hidden_dim, input_vocab_size,\n",
    "               maximum_position_encoding, p=0.1):\n",
    "        super().__init__()\n",
    "\n",
    "        self.d_model = d_model\n",
    "        self.num_layers = num_layers\n",
    "\n",
    "        self.embedding = Embeddings(d_model, input_vocab_size,maximum_position_encoding, p)\n",
    "\n",
    "        self.enc_layers = nn.ModuleList()\n",
    "        for _ in range(num_layers):\n",
    "            self.enc_layers.append(EncoderLayer(d_model, num_heads, ff_hidden_dim, p))\n",
    "        \n",
    "    def forward(self, x):\n",
    "        x = self.embedding(x) # Transform to (batch_size, input_seq_length, d_model)\n",
    "\n",
    "        for i in range(self.num_layers):\n",
    "            x = self.enc_layers[i](x)\n",
    "\n",
    "        return x  # (batch_size, input_seq_len, d_model)"
   ]
  },
  {
   "cell_type": "markdown",
   "metadata": {
    "id": "xPGaX1D26Wua"
   },
   "source": [
    "##### Transformer Classifier"
   ]
  },
  {
   "cell_type": "code",
   "execution_count": null,
   "metadata": {
    "id": "9ukdlqqV6W4p"
   },
   "outputs": [],
   "source": [
    "class TransformerClassifier(nn.Module):\n",
    "    def __init__(self, num_layers, d_model, num_heads, conv_hidden_dim, input_vocab_size, num_answers):\n",
    "        super().__init__()\n",
    "        \n",
    "        self.encoder = Encoder(num_layers, d_model, num_heads, conv_hidden_dim, input_vocab_size,\n",
    "                         maximum_position_encoding=10000)\n",
    "        self.dense = nn.Linear(d_model, num_answers)\n",
    "\n",
    "    def forward(self, x):\n",
    "        x = self.encoder(x)\n",
    "        \n",
    "        x, _ = torch.max(x, dim=1)\n",
    "        x = self.dense(x)\n",
    "        return x"
   ]
  },
  {
   "cell_type": "code",
   "execution_count": null,
   "metadata": {
    "id": "QFewLlb27Iv2"
   },
   "outputs": [],
   "source": [
    "model = TransformerClassifier(num_layers=1, d_model=32, num_heads=2, \n",
    "                         conv_hidden_dim=128, input_vocab_size=50002, num_answers=2)\n",
    "model.to(device)"
   ]
  },
  {
   "cell_type": "code",
   "execution_count": null,
   "metadata": {
    "id": "XB2fXCFA7GH1"
   },
   "outputs": [],
   "source": [
    "optimizer = torch.optim.AdamW(model.parameters(), lr=0.001)\n",
    "epochs = 10\n",
    "t_total = len(train_loader) * epochs"
   ]
  },
  {
   "cell_type": "code",
   "execution_count": null,
   "metadata": {
    "id": "wqXVUv3y7CwP"
   },
   "outputs": [],
   "source": [
    "def evaluate(data_loader):\n",
    "    data_iterator = iter(data_loader)\n",
    "    nb_batches = len(data_loader)\n",
    "    model.eval()\n",
    "    acc = 0 \n",
    "    for batch in data_iterator:\n",
    "        x = batch.text.to(device)\n",
    "        y = batch.label.to(device)\n",
    "                \n",
    "        out = model(x)\n",
    "        acc += (out.argmax(1) == y).cpu().numpy().mean()\n",
    "\n",
    "    print(f\"Eval accuracy: {acc / nb_batches}\")"
   ]
  },
  {
   "cell_type": "code",
   "execution_count": null,
   "metadata": {
    "id": "kzSWO9wyMRiF"
   },
   "outputs": [],
   "source": [
    "# Transformer predictor?"
   ]
  }
 ],
 "metadata": {
  "colab": {
   "collapsed_sections": [
    "laGCI_NGgYZF",
    "Ej_k8m2zxp__",
    "8tTT2-31f77N",
    "CJJLVqe4Wdki",
    "DyDL1fhCgr99",
    "Djl0Em3IceWp",
    "gDRBbtJRUw9V",
    "IEfvvrzFVsbH",
    "FIZOucnMAcbl",
    "kH6IwlSJkHYQ",
    "A-PEJj74Ak6O",
    "W9AoQODtiHVm",
    "QeHSe0sOx_GC",
    "DHqZ24wwqCPL",
    "0PKxobpKI74z",
    "NVQhFZyR7utn",
    "Mk4KL4HHJxzB",
    "sm4MUZeMJ1N3",
    "UlCQkLdSL0zo",
    "xuxCe8zo56DD",
    "xpi1uZqL6P_C",
    "0KcHmNn16gBQ",
    "PwJzAv3n6Ttq",
    "xPGaX1D26Wua"
   ],
   "name": "Crypto Asset Analysis.ipynb",
   "provenance": []
  },
  "kernelspec": {
   "display_name": "Python [conda env:CCM] *",
   "language": "python",
   "name": "conda-env-CCM-py"
  },
  "language_info": {
   "codemirror_mode": {
    "name": "ipython",
    "version": 3
   },
   "file_extension": ".py",
   "mimetype": "text/x-python",
   "name": "python",
   "nbconvert_exporter": "python",
   "pygments_lexer": "ipython3",
   "version": "3.8.8"
  },
  "toc-autonumbering": false,
  "toc-showcode": false,
  "toc-showmarkdowntxt": false
 },
 "nbformat": 4,
 "nbformat_minor": 4
}
